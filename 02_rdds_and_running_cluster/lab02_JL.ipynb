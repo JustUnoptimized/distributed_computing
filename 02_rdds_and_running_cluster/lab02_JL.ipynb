{
 "cells": [
  {
   "cell_type": "markdown",
   "metadata": {},
   "source": [
    "## Lab Assignment: Analytics on Glassdoor Reviews and Yelp Category Data\n",
    "\n",
    "### University of Virginia\n",
    "### DS 7200: Distributed Computing\n",
    "### Last Updated: August 20, 2023\n",
    "\n",
    "---"
   ]
  },
  {
   "cell_type": "markdown",
   "metadata": {},
   "source": [
    "### Justin Lee\n",
    "### jgh2xh@virginia.edu\n",
    "---"
   ]
  },
  {
   "cell_type": "markdown",
   "metadata": {},
   "source": [
    "### OBJECTIVE  \n",
    "\n",
    "In this assignment, you will perform some basic analytics on review and category data.  \n",
    "This will entail performing operations on *RDDs*, and using *list comprehensions*.   \n",
    "\n",
    "As this assignment covers RDDs, do not use DataFrames.\n",
    "\n",
    "Read in the dataset and perform the steps requested below.\n",
    "\n",
    "#### TOTAL POINTS = 10\n",
    "\n",
    "---"
   ]
  },
  {
   "cell_type": "markdown",
   "metadata": {},
   "source": [
    "### Config Setup"
   ]
  },
  {
   "cell_type": "code",
   "execution_count": 1,
   "metadata": {},
   "outputs": [
    {
     "name": "stderr",
     "output_type": "stream",
     "text": [
      "/opt/conda/lib/python3.7/site-packages/pyspark/bin/load-spark-env.sh: line 68: ps: command not found\n",
      "Setting default log level to \"WARN\".\n",
      "To adjust logging level use sc.setLogLevel(newLevel). For SparkR, use setLogLevel(newLevel).\n"
     ]
    },
    {
     "name": "stdout",
     "output_type": "stream",
     "text": [
      "23/08/31 15:32:42 WARN NativeCodeLoader: Unable to load native-hadoop library for your platform... using builtin-java classes where applicable\n"
     ]
    }
   ],
   "source": [
    "from pyspark.sql import SparkSession\n",
    "\n",
    "spark = SparkSession \\\n",
    "    .builder \\\n",
    "    .master(\"local\") \\\n",
    "    .appName(\"review_and_category_analytics\") \\\n",
    "    .config(\"spark.executor.memory\", '8g') \\\n",
    "    .config('spark.executor.cores', '4') \\\n",
    "    .config('spark.cores.max', '4') \\\n",
    "    .config(\"spark.driver.memory\",'1g') \\\n",
    "    .getOrCreate()\n",
    "\n",
    "sc = spark.sparkContext"
   ]
  },
  {
   "cell_type": "markdown",
   "metadata": {},
   "source": [
    "Read in the dataset  "
   ]
  },
  {
   "cell_type": "code",
   "execution_count": 2,
   "metadata": {},
   "outputs": [],
   "source": [
    "df = sc.textFile(\"reviews_and_categories.csv\")"
   ]
  },
  {
   "cell_type": "markdown",
   "metadata": {},
   "source": [
    "Get non-header records  "
   ]
  },
  {
   "cell_type": "code",
   "execution_count": 3,
   "metadata": {},
   "outputs": [],
   "source": [
    "import re\n",
    "\n",
    "header = re.compile('index,review_emp_txt,categories')\n",
    "df_noheader = df.filter(lambda x: not re.match(header, x))"
   ]
  },
  {
   "cell_type": "markdown",
   "metadata": {},
   "source": [
    "Print the first 2 records (note: exclude the header in all calculations)"
   ]
  },
  {
   "cell_type": "code",
   "execution_count": 4,
   "metadata": {},
   "outputs": [
    {
     "name": "stderr",
     "output_type": "stream",
     "text": [
      "                                                                                \r"
     ]
    },
    {
     "data": {
      "text/plain": [
       "['0,,\"[\\'point of interest\\', \\'mexican\\', \\'establishment\\', \\'food\\', \\'restaurant\\']\"',\n",
       " '1,,[]']"
      ]
     },
     "execution_count": 4,
     "metadata": {},
     "output_type": "execute_result"
    }
   ],
   "source": [
    "df_noheader.take(2)"
   ]
  },
  {
   "cell_type": "code",
   "execution_count": 5,
   "metadata": {},
   "outputs": [],
   "source": [
    "# Over-engineering a closure where the regex pattern is precompiled\n",
    "def preprocess_closure():\n",
    "    cat_pattern = re.compile('\\[(.*?)\\]')\n",
    "    \n",
    "    # text preprocessing function where for each row x:\n",
    "    # x[0] is the index (int)\n",
    "    # x[1] is the review (str)\n",
    "    # x[2] is the category (list)    \n",
    "    def _preprocess(x):\n",
    "        idx_str = x.split(',')[0]\n",
    "        idx = int(idx_str)\n",
    "        len_idx = len(idx_str)\n",
    "\n",
    "        # categories are surrounded by square brackets\n",
    "        a = re.findall(cat_pattern, x)\n",
    "        cat_str = a[0]\n",
    "        if len(cat_str) > 0:\n",
    "            # remove single quotation marks\n",
    "            # and split categories\n",
    "            # and remove leading/trailing whitespace\n",
    "            cat = [c.strip().lower() for c in cat_str.replace('\\'', '').split(',')]\n",
    "        else:\n",
    "            cat = []\n",
    "\n",
    "        # review is between idx and categories\n",
    "        rev_start = len_idx + 1  # add 1 for comma\n",
    "        rev_end = len(cat_str) + 5  # add 1 for comma, 2 for square brackets, 2 for double quotation marks\n",
    "        rev = x[rev_start:-rev_end].replace('\\\"', '')  # remove double quotation marks\n",
    "\n",
    "        return (idx, rev, cat)\n",
    "\n",
    "    return _preprocess\n",
    "    \n",
    "preprocess = preprocess_closure()\n",
    "\n",
    "df_preprocessed = df_noheader.map(preprocess)"
   ]
  },
  {
   "cell_type": "markdown",
   "metadata": {},
   "source": [
    "**1) get a record count (2 POINTS)**"
   ]
  },
  {
   "cell_type": "code",
   "execution_count": 6,
   "metadata": {},
   "outputs": [
    {
     "data": {
      "text/plain": [
       "1302"
      ]
     },
     "execution_count": 6,
     "metadata": {},
     "output_type": "execute_result"
    }
   ],
   "source": [
    "df_preprocessed.count()"
   ]
  },
  {
   "cell_type": "markdown",
   "metadata": {},
   "source": [
    "**2) get a count of records with non-missing reviews (2 POINTS)**"
   ]
  },
  {
   "cell_type": "code",
   "execution_count": 7,
   "metadata": {},
   "outputs": [
    {
     "data": {
      "text/plain": [
       "305"
      ]
     },
     "execution_count": 7,
     "metadata": {},
     "output_type": "execute_result"
    }
   ],
   "source": [
    "df_preprocessed.filter(lambda x: len(x[1]) > 0).count()"
   ]
  },
  {
   "cell_type": "markdown",
   "metadata": {},
   "source": [
    "**3) Return the count of records where review contains the word *flexible*  (1 POINT)**"
   ]
  },
  {
   "cell_type": "code",
   "execution_count": 8,
   "metadata": {},
   "outputs": [
    {
     "data": {
      "text/plain": [
       "36"
      ]
     },
     "execution_count": 8,
     "metadata": {},
     "output_type": "execute_result"
    }
   ],
   "source": [
    "flexible = re.compile('flexible')\n",
    "df_preprocessed.filter(lambda x: re.search(flexible, x[1])).count()"
   ]
  },
  {
   "cell_type": "markdown",
   "metadata": {},
   "source": [
    "Print the records where review contains the word *flexible*"
   ]
  },
  {
   "cell_type": "code",
   "execution_count": 9,
   "metadata": {},
   "outputs": [
    {
     "data": {
      "text/plain": [
       "[(25,\n",
       "  'Nice to work for but no room to advance Pros Gave me lots of hours and very flexible with my college school schedule. Always allowed me to work as many hours as I could. Cons When asked for a raise, there was no question about it, the answer was no. I feel like this is a dead end job where you can t advance to become something better'),\n",
       " (30,\n",
       "  'Great, Very flexible and understanding. Pros Good food, great people. flexible hours. Cons Limited work hours every week.'),\n",
       " (31,\n",
       "  'High demand and stress with very low reward. Pros Schedule is very flexible with opportunities to work out of store for percentage of profit. Free custard! Cons Unorganized management. Low pay (min wage 10 h). Often times catering is very behind. Orders for catering change constantly. Unreliable employees.'),\n",
       " (44,\n",
       "  'Decent Employer Employees Need Improvement Pros The Managers were usually very fair, level headed, and flexible Customers were usually cool Job not very difficult Cons Some employees were morons Company had a fear of firing, so bad hires would wallow in less and less hours until they quit'),\n",
       " (51,\n",
       "  'This company has a good background, quality products and a modern feel, but can t see lasting more than 10 more years. Pros Nice locations, flexible hours and quality healthy options on the current food market. Cons Working here is a joke, management acts like children, employees are not disciplined, and many laws are broken behind the scenes, I recommend an investigation and health inspections. McDonalds management'),\n",
       " (84,\n",
       "  'Great family oriented workforce Pros Understanding, flexible, with friendly staff. We do more charity work than i have ever seen before at any other employer I have worked for. Community based and for our own employees. Great employment advancement opportunities with jobs being offered internally first and educational reimbursement plan. Cons low pay compared to area and can be a little unorganized and lack current times technology and methods of business. Simple email, accounting, and other processes within the company feel as if it s still 1970 s. Healthcare benefits are VERY expensive. Most employees struggle to afford them, unless you are a provider or Doctor.'),\n",
       " (115,\n",
       "  'This company has a good background, quality products and a modern feel, but can t see lasting more than 10 more years. Pros Nice locations, flexible hours and quality healthy options on the current food market. Cons Working here is a joke, management acts like children, employees are not disciplined, and many laws are broken behind the scenes, I recommend an investigation and health inspections. McDonalds management'),\n",
       " (131,\n",
       "  'This company has a good background, quality products and a modern feel, but can t see lasting more than 10 more years. Pros Nice locations, flexible hours and quality healthy options on the current food market. Cons Working here is a joke, management acts like children, employees are not disciplined, and many laws are broken behind the scenes, I recommend an investigation and health inspections. McDonalds management'),\n",
       " (161,\n",
       "  'This company has a good background, quality products and a modern feel, but can t see lasting more than 10 more years. Pros Nice locations, flexible hours and quality healthy options on the current food market. Cons Working here is a joke, management acts like children, employees are not disciplined, and many laws are broken behind the scenes, I recommend an investigation and health inspections. McDonalds management'),\n",
       " (258,\n",
       "  'This company has a good background, quality products and a modern feel, but can t see lasting more than 10 more years. Pros Nice locations, flexible hours and quality healthy options on the current food market. Cons Working here is a joke, management acts like children, employees are not disciplined, and many laws are broken behind the scenes, I recommend an investigation and health inspections. McDonalds management'),\n",
       " (284,\n",
       "  'Cashier Pros It is a job and all of the employees are very nice and helpful to new workers. The boss (Jamiil) treats his employees well and is flexible with your schedule. Cons You have to stand for hours upon hours at a time. The place gets hot and you sweat, and there are certain rush hours at lunch and at dinner where it gets extremely busy.'),\n",
       " (287,\n",
       "  'This company has a good background, quality products and a modern feel, but can t see lasting more than 10 more years. Pros Nice locations, flexible hours and quality healthy options on the current food market. Cons Working here is a joke, management acts like children, employees are not disciplined, and many laws are broken behind the scenes, I recommend an investigation and health inspections. McDonalds management'),\n",
       " (289,\n",
       "  'Great Job Pros By far the best service job I ve ever had. The managers genuinely care about you, they re not just your bosses they re your friends. The atmosphere is laid back, if you re outgoing and like to talk to people, or good at faking it and want above minimum wage, I definitely say apply. Super flexible, upbeat, a great place to work that works around your schedule. Mario and Ellen are the greatest. Cons The guests can be pretty annoying, but what do you expect at a hipster sandwich shop Honestly, it s so much better than any other place I had worked before this I can t think of anything else.'),\n",
       " (296,\n",
       "  'Cashier Pros It is a job and all of the employees are very nice and helpful to new workers. The boss (Jamiil) treats his employees well and is flexible with your schedule. Cons You have to stand for hours upon hours at a time. The place gets hot and you sweat, and there are certain rush hours at lunch and at dinner where it gets extremely busy.'),\n",
       " (352,\n",
       "  'Great Managers Pros The managers that I m working with are amazing and fantastic, they are really nice and give a flexible schedule. If you are busy or sick, they ll help support you with a sick day Cons Not much cons, although we do have some cooks who are slow, I do believe they need to set their expectations a little higher when it comes to customer satisfaction'),\n",
       " (378,\n",
       "  'Good Part time Job Pros flexible work hours, friendly working employees Cons team managers are childish, pay is minimal'),\n",
       " (381,\n",
       "  'Delivery Driver Pros Its a job and you get a discount on food. The other employees are nice and the schedule can be flexible with them if you need off for something. Cons Don t keep up with time. Don t get paid for time. No benefits. Drive all over the county and Nashville. Work for a couple hours in the kitchen for less than minimum wage and not get paid for it at all. Owner is a hot head and gets mad all the time. Prepare to earn your money by tips only.'),\n",
       " (462,\n",
       "  'This company has a good background, quality products and a modern feel, but can t see lasting more than 10 more years. Pros Nice locations, flexible hours and quality healthy options on the current food market. Cons Working here is a joke, management acts like children, employees are not disciplined, and many laws are broken behind the scenes, I recommend an investigation and health inspections. McDonalds management'),\n",
       " (517,\n",
       "  'This company has a good background, quality products and a modern feel, but can t see lasting more than 10 more years. Pros Nice locations, flexible hours and quality healthy options on the current food market. Cons Working here is a joke, management acts like children, employees are not disciplined, and many laws are broken behind the scenes, I recommend an investigation and health inspections. McDonalds management'),\n",
       " (550,\n",
       "  'An Awsome place to work.. Pros Good Money, flexible more like home! Cons You are in restaurant industry, we all have our flow'),\n",
       " (621,\n",
       "  'Cashier Pros It is a job and all of the employees are very nice and helpful to new workers. The boss (Jamiil) treats his employees well and is flexible with your schedule. Cons You have to stand for hours upon hours at a time. The place gets hot and you sweat, and there are certain rush hours at lunch and at dinner where it gets extremely busy.'),\n",
       " (654,\n",
       "  'Great Part time Pros flexible hours, easy to move up within the business. good product and tips. Cons Franchise so all cold stone creameries are run a little differently. singing for tips isn t the best for ones morale.'),\n",
       " (666,\n",
       "  'Very awesome. Pros They allow the use of flexible schedule. Cons There are too many hostesses.'),\n",
       " (714,\n",
       "  'Not a bad place to work Pros The couple that owned the one I worked at were very big on school and very flexible with my school schedule Being a delivery driver is great because the tips are awesome Cons The owner was kind of crazy I m kind of a health freak and just don t like working with pizza'),\n",
       " (720,\n",
       "  'Great Managers Pros The managers that I m working with are amazing and fantastic, they are really nice and give a flexible schedule. If you are busy or sick, they ll help support you with a sick day Cons Not much cons, although we do have some cooks who are slow, I do believe they need to set their expectations a little higher when it comes to customer satisfaction'),\n",
       " (754,\n",
       "  'This company has a good background, quality products and a modern feel, but can t see lasting more than 10 more years. Pros Nice locations, flexible hours and quality healthy options on the current food market. Cons Working here is a joke, management acts like children, employees are not disciplined, and many laws are broken behind the scenes, I recommend an investigation and health inspections. McDonalds management'),\n",
       " (768,\n",
       "  'Cashier Pros It is a job and all of the employees are very nice and helpful to new workers. The boss (Jamiil) treats his employees well and is flexible with your schedule. Cons You have to stand for hours upon hours at a time. The place gets hot and you sweat, and there are certain rush hours at lunch and at dinner where it gets extremely busy.'),\n",
       " (907,\n",
       "  'Good place to learn how to be a middle class restaurant server Pros a. Fast Paced, job is fun and keeps you on your feet. Good training b. Middle class guests decent to good tip, gets you prepped for bigger places c. Laid back management, when I worked, we weren t micromanaged d. Responsibilities, servers had to make drinks, bus, among other things you re mostly going to have something to do e. Managers are flexible, willing to work with your schedule and strengths f. Easy to get shifts covered Cons a. Fast Paced, not good for someone who can t keep up b. Very little teamwork, the particular location I was at, everyone was out for themselves c. Few incentives to work harder d. Responsibilities for people who want a casual, easy place to work, this place might be a bit too much e. Culture and values of restaurant are great, but aren t enforced nor respected by coworkers'),\n",
       " (981,\n",
       "  'This company has a good background, quality products and a modern feel, but can t see lasting more than 10 more years. Pros Nice locations, flexible hours and quality healthy options on the current food market. Cons Working here is a joke, management acts like children, employees are not disciplined, and many laws are broken behind the scenes, I recommend an investigation and health inspections. McDonalds management'),\n",
       " (990,\n",
       "  'Busser Pros flexible, lots of hours, tips, location Cons there is no private parking so you must rely on public street parking'),\n",
       " (991,\n",
       "  'Being a Fudge Packer Pros If you love fudge, there s your reason for working here. (You can sample now and then, everything we make). Love the work teams, coworkers are all very friendly and easy going, and the company revolves around giving the customers a great experience. The work schedule is more flexible than in any other job. Cons If you can t handle annoying people or have very bad social communication skills this job won t fit you. Also, you probably won t get very much days off the weekend because that s when business is the busiest. Also you gotta be open to trying new things.'),\n",
       " (1035,\n",
       "  'Great Managers Pros The managers that I m working with are amazing and fantastic, they are really nice and give a flexible schedule. If you are busy or sick, they ll help support you with a sick day Cons Not much cons, although we do have some cooks who are slow, I do believe they need to set their expectations a little higher when it comes to customer satisfaction'),\n",
       " (1069,\n",
       "  'This company has a good background, quality products and a modern feel, but can t see lasting more than 10 more years. Pros Nice locations, flexible hours and quality healthy options on the current food market. Cons Working here is a joke, management acts like children, employees are not disciplined, and many laws are broken behind the scenes, I recommend an investigation and health inspections. McDonalds management'),\n",
       " (1119,\n",
       "  'Great college jobs Pros There is an great staff, fairly easy job, pay raises every couple of months, and they are fairly flexible with a school schedule. Cons You are expected to work most weekends and also new hires are expected to do dishes and lots of cleaning.'),\n",
       " (1174,\n",
       "  'Potato Corner Pros flexible hours, awesome coworkers, free meal during break Cons super busy during weekends (make sure you re able to stand for more than 5 hrs straight), sometimes its hard to even go on break because it gets so busy'),\n",
       " (1252,\n",
       "  'Good for a first job Pros Easy to get hired, flexible, make some money what I was looking for as a high schooler with no experience. Left after several months for a better job, but it was fine for what it was. Cons Customers would often be surprised or complain at the cash register about prices. Quiznos is definitely more expensive than Subway. The work gets pretty boring pretty quickly.')]"
      ]
     },
     "execution_count": 9,
     "metadata": {},
     "output_type": "execute_result"
    }
   ],
   "source": [
    "df_preprocessed.filter(lambda x: re.search(flexible, x[1])).map(lambda x: (x[0], x[1])).collect()"
   ]
  },
  {
   "cell_type": "markdown",
   "metadata": {},
   "source": [
    "**4) Lowercase all reviews, then return the count of records where review contains the word *flexible* (1 POINT)**"
   ]
  },
  {
   "cell_type": "code",
   "execution_count": 10,
   "metadata": {},
   "outputs": [
    {
     "data": {
      "text/plain": [
       "44"
      ]
     },
     "execution_count": 10,
     "metadata": {},
     "output_type": "execute_result"
    }
   ],
   "source": [
    "df_preprocessed.filter(lambda x: re.search(flexible, x[1].lower())).count()"
   ]
  },
  {
   "cell_type": "markdown",
   "metadata": {},
   "source": [
    "**5) Return the top 10 most frequent categories  (4 POINTS)**  \n",
    "\n",
    "Preprocess the categories by:  \n",
    "* stripping characters: &nbsp; [ &nbsp; ] &nbsp;  ' &nbsp;  \"  \n",
    "* trim spaces before and after words  \n",
    "* lowercase\n",
    "* removing blank categories\n",
    "\n",
    "NOTE: Be sure to keep terms together, for example 'jet skiing' should not become 'jet', 'skiing'"
   ]
  },
  {
   "cell_type": "code",
   "execution_count": 11,
   "metadata": {},
   "outputs": [
    {
     "data": {
      "text/plain": [
       "[('point of interest', 717),\n",
       " ('establishment', 717),\n",
       " ('food', 716),\n",
       " ('restaurant', 659),\n",
       " ('price', 496),\n",
       " ('other', 482),\n",
       " ('credit cards', 331),\n",
       " ('menus', 311),\n",
       " ('eating places', 291),\n",
       " ('dining options', 274)]"
      ]
     },
     "execution_count": 11,
     "metadata": {},
     "output_type": "execute_result"
    }
   ],
   "source": [
    "from operator import add\n",
    "\n",
    "cat_counts = df_preprocessed.flatMap(lambda x: x[2]) \\\n",
    "                            .map(lambda x: (x, -1)) \\\n",
    "                            .reduceByKey(add) \\\n",
    "                            .sortBy(lambda x: x[1]) \\\n",
    "                            .map(lambda x: (x[0], -x[1]))\n",
    "\n",
    "cat_counts.take(10)"
   ]
  }
 ],
 "metadata": {
  "anaconda-cloud": {},
  "kernelspec": {
   "display_name": "DS5110 Spark 3.3",
   "language": "python",
   "name": "ds5110_spark3.3"
  },
  "language_info": {
   "codemirror_mode": {
    "name": "ipython",
    "version": 3
   },
   "file_extension": ".py",
   "mimetype": "text/x-python",
   "name": "python",
   "nbconvert_exporter": "python",
   "pygments_lexer": "ipython3",
   "version": "3.7.12"
  }
 },
 "nbformat": 4,
 "nbformat_minor": 4
}
